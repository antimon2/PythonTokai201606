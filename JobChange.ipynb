{
 "cells": [
  {
   "cell_type": "markdown",
   "metadata": {
    "slideshow": {
     "slide_type": "slide"
    }
   },
   "source": [
    "# Python で転職した話<br><small>タイトルは釣りです</small> "
   ]
  },
  {
   "cell_type": "markdown",
   "metadata": {},
   "source": [
    "<p style=\"text-align:center;font-size:150%;line-height:150%\">2016/06/25 Python東海 第30回勉強会<br>後藤 俊介 ( @antimon2 )</p>"
   ]
  },
  {
   "cell_type": "markdown",
   "metadata": {
    "slideshow": {
     "slide_type": "slide"
    }
   },
   "source": [
    "## 自己紹介"
   ]
  },
  {
   "cell_type": "markdown",
   "metadata": {},
   "source": [
    "+ 名前：後藤 俊介\n",
    "+ 所属：**有限会社 来栖川電算**\n",
    "+ 言語：**Python**, Julia, Ruby, JavaScript, Haxe, …\n",
    "+ twitter: [@antimon2](https://twitter.com/antimon2 \"あんちもん2(@antimon2)さん | Twitter\")\n",
    "+ Facebook: [antimon2](https://www.facebook.com/antimon2 \"後藤 俊介\")\n",
    "+ GitHub: [antimon2](https://github.com/antimon2/ \"antimon2 (GOTOH Shunsuke)\")"
   ]
  },
  {
   "cell_type": "markdown",
   "metadata": {
    "slideshow": {
     "slide_type": "subslide"
    }
   },
   "source": [
    "### 宣伝：機械学習 名古屋 勉強会"
   ]
  },
  {
   "cell_type": "markdown",
   "metadata": {},
   "source": [
    "**機械学習 名古屋 勉強会** 主催（共催）してます！  \n",
    "次回、来週開催！\n",
    "\n",
    "[<img src=\"./MLN_201607_cap.jpg\" width=\"512\" />](http://machine-learning.connpass.com/event/32748/ \"機械学習　名古屋　第5回勉強会　ディープラーニングその3 - connpass\")"
   ]
  },
  {
   "cell_type": "markdown",
   "metadata": {
    "slideshow": {
     "slide_type": "slide"
    }
   },
   "source": [
    "## 転職しました！"
   ]
  },
  {
   "cell_type": "markdown",
   "metadata": {},
   "source": [
    "[<img src=\"./krs-logo3.png\" width=\"560\" />](http://kurusugawa.jp/ \"有限会社 来栖川電算\")"
   ]
  },
  {
   "cell_type": "markdown",
   "metadata": {
    "slideshow": {
     "slide_type": "subslide"
    }
   },
   "source": [
    "### 有限会社 来栖川電算"
   ]
  },
  {
   "cell_type": "markdown",
   "metadata": {},
   "source": [
    "+ 名古屋工業大学発ベンチャー（2003年）\n",
    "+ 機械学習（認識系）のお仕事多数\n",
    "    + 静止画・動画物体検出・認識\n",
    "    + 画像文字認識\n",
    "    + ラジオ体操認識\n",
    "    + 波動拳・昇龍拳認識"
   ]
  },
  {
   "cell_type": "markdown",
   "metadata": {
    "slideshow": {
     "slide_type": "fragment"
    }
   },
   "source": [
    "※ 詳細は **来栖川電算** で [<kbd>検索</kbd>](https://www.google.co.jp/search?q=来栖川電算)"
   ]
  },
  {
   "cell_type": "markdown",
   "metadata": {
    "slideshow": {
     "slide_type": "slide"
    }
   },
   "source": [
    "### 経緯"
   ]
  },
  {
   "cell_type": "markdown",
   "metadata": {},
   "source": [
    "1. 4/末 前社退職\n",
    "2. 4/下〜5/中 転職活動\n",
    "    + 4/下 東京の3社と面談（うち2社は日帰り上京（実費）、1社はSkype）\n",
    "    + 5/中 来栖川電算にて [**面談**](#/4) および（簡単な）[**採用試験**](#/5) 受験\n",
    "3. 6/1付 来栖川電算入社！\n",
    "    + ⇒[**現在に至る**](#/6)"
   ]
  },
  {
   "cell_type": "markdown",
   "metadata": {
    "slideshow": {
     "slide_type": "slide"
    }
   },
   "source": [
    "### 来栖川電算との「面談」"
   ]
  },
  {
   "cell_type": "markdown",
   "metadata": {},
   "source": [
    "というか、売り込み。"
   ]
  },
  {
   "cell_type": "markdown",
   "metadata": {
    "slideshow": {
     "slide_type": "fragment"
    }
   },
   "source": [
    "+ 『機械学習できます！』\n",
    "+ 『昨年 [Coursera の Machine Learning](https://www.coursera.org/learn/machine-learning) 修了しました！』\n",
    "+ 『[機械学習の勉強会](http://machine-learning.connpass.com/) 主催（共催）しています！』\n",
    "+ 『今一番得意な言語は **Python** です！ [TensorFlow](https://www.tensorflow.org/) とか使えます！』\n",
    "    + 『あと個人的には [Julia](http://julialang.org/) オススメです(ﾎﾞｿｯ』"
   ]
  },
  {
   "cell_type": "markdown",
   "metadata": {
    "slideshow": {
     "slide_type": "notes"
    }
   },
   "source": [
    "※ うろ覚えかつ個人の主観による記憶の改竄が発生している可能性があります。"
   ]
  },
  {
   "cell_type": "markdown",
   "metadata": {
    "slideshow": {
     "slide_type": "slide"
    }
   },
   "source": [
    "### 来栖川電算の「採用試験」"
   ]
  },
  {
   "cell_type": "markdown",
   "metadata": {},
   "source": [
    "実際の試験内容そのままを載せることはできないので、イメージ（類題）を紹介。"
   ]
  },
  {
   "cell_type": "markdown",
   "metadata": {
    "slideshow": {
     "slide_type": "subslide"
    }
   },
   "source": [
    "#### 問題1（コード記述問題）"
   ]
  },
  {
   "cell_type": "code",
   "execution_count": null,
   "metadata": {
    "collapsed": true
   },
   "outputs": [],
   "source": [
    "a = [0, 1, 2, 3, 4, 5, 6, 7, 8, 9]\n",
    "n = 3\n",
    "rotate(a, n)  # => [3, 4, 5, 6, 7, 8, 9, 0, 1, 2]\n",
    "# ↑コレ"
   ]
  },
  {
   "cell_type": "markdown",
   "metadata": {},
   "source": [
    "+ ↑このような関数 `rotate`（＝配列（リスト）`a` の内容を `n` だけずらす関数）を書いてください（言語不問）。ただし：\n",
    "    + 頭で考えて、ホワイトボードにコードを書いてください。"
   ]
  },
  {
   "cell_type": "markdown",
   "metadata": {
    "slideshow": {
     "slide_type": "fragment"
    }
   },
   "source": [
    "+ ↑を書き終わったら：\n",
    "    + コードの説明をしてください。\n",
    "    + パフォーマンス改善できる箇所はありませんか？\n",
    "    + 新しい配列（リスト）ではなく、インプレースで処理（＝同じリスト内で要素を移動）するように書けますか？\n",
    "    + 補助変数（引数で与えられた以外の変数）を使用せずに書けますか？"
   ]
  },
  {
   "cell_type": "markdown",
   "metadata": {
    "slideshow": {
     "slide_type": "notes"
    }
   },
   "source": [
    "※余裕があったら Python のコード例を示す。"
   ]
  },
  {
   "cell_type": "markdown",
   "metadata": {
    "slideshow": {
     "slide_type": "subslide"
    }
   },
   "source": [
    "#### 問題2（口頭問題）"
   ]
  },
  {
   "cell_type": "markdown",
   "metadata": {},
   "source": [
    "+ あなたの最寄りの駅の、1日の乗降客数を勝手に予想してその人数を答えてください。ただし：\n",
    "    + 一切の資料を見ないで答えてください（＝スマホもPCも使用禁止）。\n",
    "    + 正確な数値を出さなくてもよいです。"
   ]
  },
  {
   "cell_type": "markdown",
   "metadata": {
    "slideshow": {
     "slide_type": "fragment"
    }
   },
   "source": [
    "+ ↑答えを出したら：\n",
    "    + どのようにその数値を導き出したか、を口頭で説明してください。\n",
    "    + 他の基準で別の答えは出せませんか？"
   ]
  },
  {
   "cell_type": "markdown",
   "metadata": {
    "slideshow": {
     "slide_type": "slide"
    }
   },
   "source": [
    "### 来栖川電算入社〜現在"
   ]
  },
  {
   "cell_type": "markdown",
   "metadata": {
    "slideshow": {
     "slide_type": "subslide"
    }
   },
   "source": [
    "#### 毎日こんなコード書いてます！（画像はイメージです）"
   ]
  },
  {
   "cell_type": "markdown",
   "metadata": {},
   "source": [
    "<img src=\"./TF_SampleCode.jpg\" width=\"640\">"
   ]
  },
  {
   "cell_type": "markdown",
   "metadata": {
    "slideshow": {
     "slide_type": "subslide"
    }
   },
   "source": [
    "#### 毎日こんなグラフとにらめっこしてます！"
   ]
  },
  {
   "cell_type": "markdown",
   "metadata": {},
   "source": [
    "<img src=\"./TensorBoard_83.jpg\" width=\"640\">"
   ]
  },
  {
   "cell_type": "markdown",
   "metadata": {
    "slideshow": {
     "slide_type": "notes"
    }
   },
   "source": [
    "※全然収束しない…"
   ]
  },
  {
   "cell_type": "markdown",
   "metadata": {
    "slideshow": {
     "slide_type": "subslide"
    }
   },
   "source": [
    "#### その他、毎日こんな感じでお仕事しています！"
   ]
  },
  {
   "cell_type": "markdown",
   "metadata": {},
   "source": [
    "+ 休憩時間のゲーム楽しい！\n",
    "+ 家政婦さんの作る夜ごはんおいしい！\n",
    "+ ○○さんまたカメラ目線！\n",
    "+ ルンバさんダメだ！そっちに行くな！あぁあぁぁっ！"
   ]
  },
  {
   "cell_type": "markdown",
   "metadata": {
    "slideshow": {
     "slide_type": "notes"
    }
   },
   "source": [
    "※ NGワード：「仕事しろ」"
   ]
  },
  {
   "cell_type": "markdown",
   "metadata": {
    "slideshow": {
     "slide_type": "slide"
    }
   },
   "source": [
    "## 結論"
   ]
  },
  {
   "cell_type": "markdown",
   "metadata": {
    "slideshow": {
     "slide_type": "subslide"
    }
   },
   "source": [
    "+ **Python** を勉強すれば、転職できるよ！\n",
    "+ **勉強会を主催** すれば、転職できるよ！\n",
    "+ **がんばれば** きっと、転職できるよ！"
   ]
  },
  {
   "cell_type": "markdown",
   "metadata": {
    "slideshow": {
     "slide_type": "notes"
    }
   },
   "source": [
    "※ 学生の方は「転職」を「就職」に置き換えて読んでください。  \n",
    "※ あと「転職/就職」した後は各自がんばれ！  "
   ]
  },
  {
   "cell_type": "markdown",
   "metadata": {
    "slideshow": {
     "slide_type": "slide"
    }
   },
   "source": [
    "### 最後に"
   ]
  },
  {
   "cell_type": "markdown",
   "metadata": {
    "slideshow": {
     "slide_type": "subslide"
    }
   },
   "source": [
    "再掲： **機械学習 名古屋 勉強会** 来週開催！\n",
    "\n",
    "[<img src=\"./MLN_201607_cap.jpg\" width=\"640\" />](http://machine-learning.connpass.com/event/32748/ \"機械学習　名古屋　第5回勉強会　ディープラーニングその3 - connpass\")"
   ]
  },
  {
   "cell_type": "markdown",
   "metadata": {
    "slideshow": {
     "slide_type": "slide"
    }
   },
   "source": [
    "## おしまい"
   ]
  },
  {
   "cell_type": "markdown",
   "metadata": {
    "collapsed": true,
    "slideshow": {
     "slide_type": "-"
    }
   },
   "source": [
    "ご清聴ありがとうございました。"
   ]
  },
  {
   "cell_type": "code",
   "execution_count": 1,
   "metadata": {
    "collapsed": false,
    "slideshow": {
     "slide_type": "notes"
    }
   },
   "outputs": [
    {
     "data": {
      "text/html": [
       "<style>\n",
       ".reveal>.state-background,.reveal>.backgrounds>.slide-background{background-color:#dbf8f9}\n",
       ".reveal .rendered_html pre,.reveal .rendered_html code{background-color:#eee}\n",
       ".reveal .rendered_html h1,.reveal .rendered_html h2,.reveal .rendered_html h3,.reveal .rendered_html h4,.reveal .rendered_html strong{color:#1c8f93}\n",
       "</style>"
      ],
      "text/plain": [
       "<IPython.core.display.HTML object>"
      ]
     },
     "execution_count": 1,
     "metadata": {},
     "output_type": "execute_result"
    }
   ],
   "source": [
    "from IPython.core.display import HTML\n",
    "HTML(r\"\"\"<style>\n",
    ".reveal>.state-background,.reveal>.backgrounds>.slide-background{background-color:#dbf8f9}\n",
    ".reveal .rendered_html pre,.reveal .rendered_html code{background-color:#eee}\n",
    ".reveal .rendered_html h1,.reveal .rendered_html h2,.reveal .rendered_html h3,.reveal .rendered_html h4,.reveal .rendered_html strong{color:#1c8f93}\n",
    "</style>\"\"\")"
   ]
  }
 ],
 "metadata": {
  "celltoolbar": "Slideshow",
  "kernelspec": {
   "display_name": "Python 2",
   "language": "python",
   "name": "python2"
  },
  "language_info": {
   "codemirror_mode": {
    "name": "ipython",
    "version": 2
   },
   "file_extension": ".py",
   "mimetype": "text/x-python",
   "name": "python",
   "nbconvert_exporter": "python",
   "pygments_lexer": "ipython2",
   "version": "2.7.9"
  }
 },
 "nbformat": 4,
 "nbformat_minor": 0
}
