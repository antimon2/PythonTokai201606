{
 "cells": [
  {
   "cell_type": "markdown",
   "metadata": {
    "slideshow": {
     "slide_type": "slide"
    }
   },
   "source": [
    "# Python で転職した話<br><small>タイトルは釣りです</small> "
   ]
  },
  {
   "cell_type": "markdown",
   "metadata": {},
   "source": [
    "<p style=\"text-align:center;font-size:150%;line-height:150%\">2016/06/25 Python東海 第30回勉強会<br>後藤 俊介 ( @antimon2 )</p>"
   ]
  },
  {
   "cell_type": "markdown",
   "metadata": {
    "slideshow": {
     "slide_type": "slide"
    }
   },
   "source": [
    "## 自己紹介"
   ]
  },
  {
   "cell_type": "markdown",
   "metadata": {},
   "source": [
    "+ 名前：後藤 俊介\n",
    "+ 所属：**有限会社来栖川電算**\n",
    "+ 言語：**Python**, Julia, Ruby, JavaScript, Haxe, …\n",
    "+ twitter: [@antimon2](https://twitter.com/antimon2 \"あんちもん2(@antimon2)さん | Twitter\")\n",
    "+ Facebook: [antimon2](https://www.facebook.com/antimon2 \"後藤 俊介\")\n",
    "+ GitHub: [antimon2](https://github.com/antimon2/ \"antimon2 (GOTOH Shunsuke)\")"
   ]
  },
  {
   "cell_type": "markdown",
   "metadata": {
    "slideshow": {
     "slide_type": "subslide"
    }
   },
   "source": [
    "### 宣伝：機械学習 名古屋 勉強会"
   ]
  },
  {
   "cell_type": "markdown",
   "metadata": {},
   "source": [
    "機械学習 名古屋 勉強会 主催（共催）してます！  \n",
    "次回、来週開催！\n",
    "\n",
    "[<img src=\"./MLNGY_201607_cap.png\" width=\"512\" />](http://machine-learning.connpass.com/event/32748/ \"機械学習　名古屋　第5回勉強会　ディープラーニングその3 - connpass\")"
   ]
  },
  {
   "cell_type": "markdown",
   "metadata": {
    "slideshow": {
     "slide_type": "slide"
    }
   },
   "source": [
    "## 転職しました！"
   ]
  },
  {
   "cell_type": "markdown",
   "metadata": {
    "slideshow": {
     "slide_type": "subslide"
    }
   },
   "source": [
    "### 経緯"
   ]
  },
  {
   "cell_type": "markdown",
   "metadata": {},
   "source": [
    "+ 4/中 前社に退職の意向を通知\n",
    "+ 4/30 前社退職\n",
    "+ 4/25 東京で2社と面談（日帰り、実費）→ W社、R社\n",
    "+ 4/27 東京の会社とSkype面談→N社\n",
    "+ 5/9  来栖川電算にて**面談**\n",
    "    + ⇒脈あり！\n",
    "+ 5/12 来栖川電算にて（簡単な）**採用試験**受験\n",
    "    + ⇒合格！\n",
    "+ 6/1  来栖川電算入社！\n",
    "    + ⇒**現在に至る**"
   ]
  },
  {
   "cell_type": "markdown",
   "metadata": {
    "slideshow": {
     "slide_type": "subslide"
    }
   },
   "source": [
    "### 面談"
   ]
  },
  {
   "cell_type": "markdown",
   "metadata": {},
   "source": [
    "というか、売り込み。"
   ]
  },
  {
   "cell_type": "markdown",
   "metadata": {
    "slideshow": {
     "slide_type": "fragment"
    }
   },
   "source": [
    "+ 『機械学習勉強しています！』\n",
    "+ 『昨年 [Coursera の Machine Learning](https://www.coursera.org/learn/machine-learning) も修了しました！』\n",
    "+ 『[機械学習の勉強会](http://machine-learning.connpass.com/) 主催（共催）しています！』\n",
    "+ 『今一番得意な言語は Python です！ [TensorFlow](https://www.tensorflow.org/) とか使えます！』\n",
    "    + 『あと個人的には [Julia](http://julialang.org/) オススメです(ﾎﾞｿｯ』"
   ]
  },
  {
   "cell_type": "markdown",
   "metadata": {
    "slideshow": {
     "slide_type": "notes"
    }
   },
   "source": [
    "※ うろ覚えかつ個人の主観による記憶の改竄が発生している可能性があります。"
   ]
  },
  {
   "cell_type": "markdown",
   "metadata": {
    "slideshow": {
     "slide_type": "subslide"
    }
   },
   "source": [
    "### 採用試験"
   ]
  },
  {
   "cell_type": "markdown",
   "metadata": {},
   "source": [
    "実際の試験内容そのままを載せることはできないので、イメージ（類題）を紹介。"
   ]
  },
  {
   "cell_type": "markdown",
   "metadata": {
    "slideshow": {
     "slide_type": "subslide"
    }
   },
   "source": [
    "#### 問題1（コード記述問題）"
   ]
  },
  {
   "cell_type": "markdown",
   "metadata": {},
   "source": [
    "+ 配列（リスト）`a` と整数 `n` を与えて、`a` の内容を `n` だけ `rotate` する関数を書いてください（言語不問）。ただし：\n",
    "    + 頭で考えて、ホワイトボードにコードを書いてください。"
   ]
  },
  {
   "cell_type": "markdown",
   "metadata": {
    "slideshow": {
     "slide_type": "fragment"
    }
   },
   "source": [
    "+ ↑を書き終わったら：\n",
    "    + コードの説明をしてください。\n",
    "    + パフォーマンス改善できる箇所はありませんか？\n",
    "    + 新しい配列（リスト）ではなく、インプレースで処理（＝同じリスト内で要素を移動）するように書けますか？\n",
    "    + 補助変数（引数で与えられた以外の変数）を使用せずに書けますか？"
   ]
  },
  {
   "cell_type": "markdown",
   "metadata": {
    "slideshow": {
     "slide_type": "notes"
    }
   },
   "source": [
    "※余裕があったら Python のコード例を示す。"
   ]
  },
  {
   "cell_type": "markdown",
   "metadata": {
    "slideshow": {
     "slide_type": "subslide"
    }
   },
   "source": [
    "#### 問題2（口頭問題）"
   ]
  },
  {
   "cell_type": "markdown",
   "metadata": {},
   "source": [
    "+ あなたの最寄りの駅の、1日の乗降客数を勝手に予想してその人数を答えてください。ただし：\n",
    "    + 一切の資料を見ないで答えてください（＝スマホもPCも使用禁止）。\n",
    "    + 正確な数値を出さなくてもよいです。"
   ]
  },
  {
   "cell_type": "markdown",
   "metadata": {
    "slideshow": {
     "slide_type": "fragment"
    }
   },
   "source": [
    "+ ↑答えを出したら：\n",
    "    + どのようにその数値を導き出したか、を口頭で説明してください。\n",
    "    + 他の基準で別の答えは出せませんか？"
   ]
  },
  {
   "cell_type": "markdown",
   "metadata": {
    "slideshow": {
     "slide_type": "subslide"
    }
   },
   "source": [
    "### 現在"
   ]
  },
  {
   "cell_type": "markdown",
   "metadata": {
    "slideshow": {
     "slide_type": "notes"
    }
   },
   "source": [
    "《TODO: 現在業務で利用している技術の概要、もしくはサンプルコードを書く》"
   ]
  },
  {
   "cell_type": "code",
   "execution_count": 2,
   "metadata": {
    "collapsed": false,
    "slideshow": {
     "slide_type": "notes"
    }
   },
   "outputs": [
    {
     "data": {
      "text/html": [
       "<style>\n",
       ".reveal>.state-background,.reveal>.backgrounds>.slide-background{background-color:#dbf8f9}\n",
       ".reveal .rendered_html pre,.reveal .rendered_html code{background-color:#eee}\n",
       ".reveal .rendered_html h1,.reveal .rendered_html h2,.reveal .rendered_html h3,.reveal .rendered_html h4,.reveal .rendered_html strong{color:#1c8f93}\n",
       "</style>"
      ],
      "text/plain": [
       "<IPython.core.display.HTML object>"
      ]
     },
     "execution_count": 2,
     "metadata": {},
     "output_type": "execute_result"
    }
   ],
   "source": [
    "from IPython.core.display import HTML\n",
    "HTML(r\"\"\"<style>\n",
    ".reveal>.state-background,.reveal>.backgrounds>.slide-background{background-color:#dbf8f9}\n",
    ".reveal .rendered_html pre,.reveal .rendered_html code{background-color:#eee}\n",
    ".reveal .rendered_html h1,.reveal .rendered_html h2,.reveal .rendered_html h3,.reveal .rendered_html h4,.reveal .rendered_html strong{color:#1c8f93}\n",
    "</style>\"\"\")"
   ]
  },
  {
   "cell_type": "code",
   "execution_count": null,
   "metadata": {
    "collapsed": true,
    "slideshow": {
     "slide_type": "skip"
    }
   },
   "outputs": [],
   "source": []
  }
 ],
 "metadata": {
  "celltoolbar": "Slideshow",
  "kernelspec": {
   "display_name": "Python 2",
   "language": "python",
   "name": "python2"
  },
  "language_info": {
   "codemirror_mode": {
    "name": "ipython",
    "version": 2
   },
   "file_extension": ".py",
   "mimetype": "text/x-python",
   "name": "python",
   "nbconvert_exporter": "python",
   "pygments_lexer": "ipython2",
   "version": "2.7.6"
  }
 },
 "nbformat": 4,
 "nbformat_minor": 0
}
